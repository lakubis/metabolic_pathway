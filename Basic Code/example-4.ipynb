{
 "cells": [
  {
   "cell_type": "markdown",
   "metadata": {},
   "source": [
    "This is a pain in the ass to create the matrix\n",
    "\n",
    "$$\\begin{pmatrix}\n",
    "\\frac{dN_1}{dt}\\\\\n",
    "\\frac{dN_2}{dt}\\\\\n",
    "\\frac{dN_3}{dt}\\\\\n",
    "\\frac{dN_4}{dt}\\\\\n",
    "\\frac{dN_5}{dt}\\\\\n",
    "\\frac{dN_6}{dt}\\\\\n",
    "\\frac{dN_7}{dt}\\\\\n",
    "\\frac{dN_8}{dt}\\\\\n",
    "\\frac{dN_9}{dt}\\\\\n",
    "\\frac{dN_{10}}{dt}\\\\\n",
    "\\frac{dN_{11}}{dt}\\\\\n",
    "\\frac{dN_{12}}{dt}\\\\\n",
    "\\frac{dN_{13}}{dt}\\\\\n",
    "\\frac{dN_{14}}{dt}\\\\\n",
    "\\frac{dN_{15}}{dt}\n",
    "\\end{pmatrix} = \\begin{pmatrix}\n",
    "-1 & 0 & 0 & 0 & 0 & 0 & 0 & 0 & 0 & 0 & 0 & 0 & 0 & 0 & 0 & 0\\\\\n",
    "0 & 0 & 0 & 0 & 0 & 0 & 0 & 0 & 0 & 0 & 0 & 0 & 0 & 0 & 0 & 1\\\\\n",
    "1 & -1 & -1 & 0 & 0 & 0 & 0 & 0 & 0 & 0 & 0 & 0 & 0 & 0 & 0 & -1\\\\\n",
    "0 & 1 & 0 & -1 & 0 & 0 & 0 & 0 & 0 & 0 & 0 & 0 & 0 & 0 & 0 & 0\\\\\n",
    "0 & 0 & 1 & 1 & -1 & 0 & 0 & 0 & 0 & 0 & -1 & 0 & 0 & 0 & -1 & 0\\\\\n",
    "0 & 0 & 0 & 0 & 0 & 0 & 0 & 0 & 0 & 0 & 0 & 0 & 0 & 0 & 1 & 0\\\\\n",
    "0 & 0 & 0 & 0 & 0 & 0 & 0 & 0 & 0 & 0 & 0 & 0 & 0 & 1 & 0 & 0\\\\\n",
    "0 & 0 & 0 & 0 & 1 & -1 & -1 & 0 & 0 & 0 & 0 & 0 & 0 & -1 & 0 & 0\\\\\n",
    "0 & 0 & 0 & 0 & 0 & 1 & 0 & 0 & 0 & 0 & 0 & 0 & 0 & 0 & 0 & 0\\\\\n",
    "0 & 0 & 0 & 0 & 0 & 0 & 0 & 0 & 0 & 0 & 0 & 0 & 1 & 0 & 0 & 0\\\\\n",
    "0 & 0 & 0 & 0 & 0 & 0 & -1 & 0 & 0 & 1 & 1 & 0 & -1 & 0 & 0 & 0\\\\\n",
    "0 & 0 & 0 & 0 & 0 & 0 & 1 & -1 & 0 & 0 & 0 & 0 & 0 & 0 & 0 & 0\\\\\n",
    "0 & 0 & 0 & 0 & 0 & 0 & 0 & 0 & 1 & -1 & 0 & 0 & 0 & 0 & 0 & 0\\\\\n",
    "0 & 0 & 0 & 0 & 0 & 0 & 0 & 1 & -1 & 0 & 0 & -1 & 0 & 0 & 0 & 0\\\\\n",
    "0 & 0 & 0 & 0 & 0 & 0 & 0 & 0 & 0 & 0 & 0 & 1 & 0 & 0 & 0 & 0\\\\\n",
    "\\end{pmatrix} \\begin{pmatrix}\n",
    "v_1\\\\\n",
    "v_2\\\\\n",
    "v_3\\\\\n",
    "v_4\\\\\n",
    "v_5\\\\\n",
    "v_6\\\\\n",
    "v_7\\\\\n",
    "v_8\\\\\n",
    "v_9\\\\\n",
    "v_{10}\\\\\n",
    "v_{11}\\\\\n",
    "v_{12}\\\\\n",
    "v_{13}\\\\\n",
    "v_{14}\\\\\n",
    "v_{15}\\\\\n",
    "v_{16}\n",
    "\\end{pmatrix}$$"
   ]
  },
  {
   "cell_type": "code",
   "execution_count": 40,
   "metadata": {},
   "outputs": [],
   "source": [
    "# Import libraries\n",
    "import numpy as np\n",
    "import matplotlib.pyplot as plt\n",
    "from numpy import matmul\n"
   ]
  },
  {
   "cell_type": "code",
   "execution_count": 41,
   "metadata": {},
   "outputs": [],
   "source": [
    "# Define the matrices\n",
    "\n",
    "N_init = np.zeros(15)\n",
    "N_init[0] = 1\n",
    "\n",
    "v = np.random.random(16)\n",
    "#v = np.zeros(16)\n",
    "\n",
    "t_arr = np.linspace(0,1,1000)\n",
    "S = np.array([[-1 , 0 , 0 , 0 , 0 , 0 , 0 , 0 , 0 , 0 , 0 , 0 , 0 , 0 , 0 , 0]\n",
    ",[0 , 0 , 0 , 0 , 0 , 0 , 0 , 0 , 0 , 0 , 0 , 0 , 0 , 0 , 0 , 1]\n",
    ",[1 , -1 , -1 , 0 , 0 , 0 , 0 , 0 , 0 , 0 , 0 , 0 , 0 , 0 , 0 , -1]\n",
    ",[0 , 1 , 0 , -1 , 0 , 0 , 0 , 0 , 0 , 0 , 0 , 0 , 0 , 0 , 0 , 0]\n",
    ",[0 , 0 , 1 , 1 , -1 , 0 , 0 , 0 , 0 , 0 , -1 , 0 , 0 , 0 , -1 , 0]\n",
    ",[0 , 0 , 0 , 0 , 0 , 0 , 0 , 0 , 0 , 0 , 0 , 0 , 0 , 0 , 1 , 0]\n",
    ",[0 , 0 , 0 , 0 , 0 , 0 , 0 , 0 , 0 , 0 , 0 , 0 , 0 , 1 , 0 , 0]\n",
    ",[0 , 0 , 0 , 0 , 1 , -1 , -1 , 0 , 0 , 0 , 0 , 0 , 0 , -1 , 0 , 0]\n",
    ",[0 , 0 , 0 , 0 , 0 , 1 , 0 , 0 , 0 , 0 , 0 , 0 , 0 , 0 , 0 , 0]\n",
    ",[0 , 0 , 0 , 0 , 0 , 0 , 0 , 0 , 0 , 0 , 0 , 0 , 1 , 0 , 0 , 0]\n",
    ",[0 , 0 , 0 , 0 , 0 , 0 , -1 , 0 , 0 , 1 , 1 , 0 , -1 , 0 , 0 , 0]\n",
    ",[0 , 0 , 0 , 0 , 0 , 0 , 1 , -1 , 0 , 0 , 0 , 0 , 0 , 0 , 0 , 0]\n",
    ",[0 , 0 , 0 , 0 , 0 , 0 , 0 , 0 , 1 , -1 , 0 , 0 , 0 , 0 , 0 , 0]\n",
    ",[0 , 0 , 0 , 0 , 0 , 0 , 0 , 1 , -1 , 0 , 0 , -1 , 0 , 0 , 0 , 0]\n",
    ",[0 , 0 , 0 , 0 , 0 , 0 , 0 , 0 , 0 , 0 , 0 , 1 , 0 , 0 , 0 , 0]])"
   ]
  },
  {
   "cell_type": "code",
   "execution_count": 42,
   "metadata": {},
   "outputs": [
    {
     "data": {
      "text/plain": [
       "array([-0.30822617,  0.09979948, -0.51675585,  0.66448106, -1.94264616,\n",
       "        0.64550042,  0.6941689 , -1.03156045,  0.76497123,  0.1743403 ,\n",
       "        0.75268901, -0.25044811,  0.7301488 , -1.16170768,  0.64133232])"
      ]
     },
     "execution_count": 42,
     "metadata": {},
     "output_type": "execute_result"
    }
   ],
   "source": [
    "np.matmul(S,v)"
   ]
  },
  {
   "cell_type": "code",
   "execution_count": 43,
   "metadata": {},
   "outputs": [],
   "source": [
    "def crude_integrator(v, N, S, t):\n",
    "\n",
    "    N_solve = N.copy() # Make another copy of N so that we are not changing the input value\n",
    "    dt = t_arr[1] - t_arr[0]\n",
    "    for i in range(len(t)):\n",
    "        N_solve[:] = N_solve + np.matmul(S,v)*dt\n",
    "\n",
    "    return N_solve"
   ]
  },
  {
   "cell_type": "code",
   "execution_count": 44,
   "metadata": {},
   "outputs": [
    {
     "name": "stdout",
     "output_type": "stream",
     "text": [
      "[ 0.69146529  0.09989938 -0.51727312  0.6651462  -1.94459075  0.64614656\n",
      "  0.69486377 -1.03259305  0.76573697  0.17451482  0.75344246 -0.25069881\n",
      "  0.73087968 -1.16287055  0.64197429]\n"
     ]
    }
   ],
   "source": [
    "N_result = crude_integrator(v, N_init, S, t_arr)\n",
    "print(N_result)"
   ]
  }
 ],
 "metadata": {
  "kernelspec": {
   "display_name": "Python 3",
   "language": "python",
   "name": "python3"
  },
  "language_info": {
   "codemirror_mode": {
    "name": "ipython",
    "version": 3
   },
   "file_extension": ".py",
   "mimetype": "text/x-python",
   "name": "python",
   "nbconvert_exporter": "python",
   "pygments_lexer": "ipython3",
   "version": "3.10.13"
  }
 },
 "nbformat": 4,
 "nbformat_minor": 2
}
