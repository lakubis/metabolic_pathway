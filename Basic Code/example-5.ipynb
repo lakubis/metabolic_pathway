{
 "cells": [
  {
   "cell_type": "code",
   "execution_count": 108,
   "metadata": {},
   "outputs": [],
   "source": [
    "import numpy as np\n",
    "import matplotlib.pyplot as plt \n",
    "import seaborn"
   ]
  },
  {
   "cell_type": "code",
   "execution_count": 109,
   "metadata": {},
   "outputs": [],
   "source": [
    "S_calculated = np.zeros((13,16))\n",
    "add_1_row = [0, 0, 0, 0, \n",
    "             1, 1, \n",
    "             2, 2, 2, 2, 2 ,2,\n",
    "             3, 3, 3, 3,\n",
    "             4, 4,\n",
    "             5, 5, 5, \n",
    "             6, 6,\n",
    "             7, 7, 7, 7, \n",
    "             8, 9, 10, 11, 12]\n",
    "add_1_col = [0, 1, 2, 15, \n",
    "             1, 3, \n",
    "             2, 2, 3, 4, 10 ,14,\n",
    "             4, 5, 6, 13,\n",
    "             6, 7,\n",
    "             7, 8, 10, \n",
    "             8, 9,\n",
    "             6, 9, 10, 12, \n",
    "             11, 12, 13, 14, 15]\n",
    "for i,j in zip(add_1_row, add_1_col):\n",
    "    if (i,j) in neg_1:\n",
    "        S_calculated[i,j] -= 1\n",
    "    else :\n",
    "        S_calculated[i,j] += 1\n",
    "neg_1 = {(0,0), (1,1), (2,2), (2,3), (3,3), \n",
    "         (3,4), (4,6), (5,7), (6,8), (7,9), (7,10), (8,11),\n",
    "         (9,12), (10,13), (11,14), (12,15)}\n",
    "S_measured = np.zeros((13,1))\n",
    "S_measured[8:,] = np.reshape([1.078, 1.786, 2.928, 2.833, 0.205], (5,1))\n",
    "S = np.concatenate((S_calculated,S_measured), axis = 1)"
   ]
  },
  {
   "cell_type": "code",
   "execution_count": 110,
   "metadata": {},
   "outputs": [],
   "source": [
    "lb = np.zeros(13)\n",
    "lb[0], lb[5] = [11, 6.4]\n",
    "ub = np.array([20]*13)\n",
    "ub[0], ub[6] = [11, 6.4]"
   ]
  },
  {
   "cell_type": "code",
   "execution_count": 125,
   "metadata": {},
   "outputs": [],
   "source": [
    "def guess_sol(sample = 100):\n",
    "    v_guess = np.zeros((17,sample))\n",
    "    for i in range(sample):\n",
    "        v_guess[0,i] = 11\n",
    "        for j in range(1,17):\n",
    "            if j == 5:\n",
    "                v_guess[j, i] = np.random.uniform(low = 6.4, high = 20)\n",
    "            elif j == 6:\n",
    "                v_guess[j, i] = np.random.uniform(low = 0, high = 6.4) \n",
    "            else :\n",
    "                v_guess[j, i] = np.random.uniform(low = 0, high = 20)\n",
    "    return v_guess"
   ]
  },
  {
   "cell_type": "code",
   "execution_count": 112,
   "metadata": {},
   "outputs": [
    {
     "data": {
      "image/png": "[encoded data removed]",
      "text/plain": [
       "<Figure size 640x480 with 2 Axes>"
      ]
     },
     "metadata": {},
     "output_type": "display_data"
    }
   ],
   "source": [
    "seaborn.heatmap(S, annot= True)\n",
    "plt.show()"
   ]
  },
  {
   "cell_type": "code",
   "execution_count": 117,
   "metadata": {},
   "outputs": [
    {
     "data": {
      "text/plain": [
       "(17, 100)"
      ]
     },
     "execution_count": 117,
     "metadata": {},
     "output_type": "execute_result"
    }
   ],
   "source": [
    "v_guess.shape"
   ]
  },
  {
   "cell_type": "code",
   "execution_count": 126,
   "metadata": {},
   "outputs": [
    {
     "data": {
      "text/plain": [
       "array([[  4.09216392,  25.17501634,  10.48475983, ...,  16.41424144,\n",
       "         17.64793248,  23.11890862],\n",
       "       [ -4.318408  , -10.86341598,  -1.98881174, ..., -12.93027542,\n",
       "          4.07912484,   2.80325532],\n",
       "       [ -7.81160663,  -2.47301265,  29.06878495, ...,  16.80888048,\n",
       "        -12.02891296, -15.32474919],\n",
       "       ...,\n",
       "       [ 32.32424399,  33.61524257,  -9.62066396, ...,  28.57921963,\n",
       "         -0.12888588,  -4.70381908],\n",
       "       [ 41.82930071,  38.9325613 ,  -6.79526848, ...,  31.21016703,\n",
       "         11.90420982,   0.17674306],\n",
       "       [  3.08663429,  -4.47546899, -12.33683229, ...,  -4.20691501,\n",
       "         -6.56813263,  -8.77590326]])"
      ]
     },
     "execution_count": 126,
     "metadata": {},
     "output_type": "execute_result"
    }
   ],
   "source": [
    "v_guess = guess_sol(sample = 10000)\n",
    "S.dot(v_guess)"
   ]
  },
  {
   "cell_type": "code",
   "execution_count": null,
   "metadata": {},
   "outputs": [],
   "source": [
    "U, S_eig, Vh = np.linalg.svd(S)"
   ]
  },
  {
   "cell_type": "code",
   "execution_count": null,
   "metadata": {},
   "outputs": [
    {
     "data": {
      "text/plain": [
       "array([4.69556835, 3.09474033, 2.33328824, 2.08381861, 1.97279553,\n",
       "       1.83505502, 1.34588207, 1.18749316, 1.        , 0.9775544 ,\n",
       "       0.83616489, 0.65123787, 0.14450398])"
      ]
     },
     "execution_count": 84,
     "metadata": {},
     "output_type": "execute_result"
    }
   ],
   "source": [
    "S_eig"
   ]
  }
 ],
 "metadata": {
  "kernelspec": {
   "display_name": "Python 3",
   "language": "python",
   "name": "python3"
  },
  "language_info": {
   "codemirror_mode": {
    "name": "ipython",
    "version": 3
   },
   "file_extension": ".py",
   "mimetype": "text/x-python",
   "name": "python",
   "nbconvert_exporter": "python",
   "pygments_lexer": "ipython3",
   "version": "3.10.0"
  }
 },
 "nbformat": 4,
 "nbformat_minor": 2
}
